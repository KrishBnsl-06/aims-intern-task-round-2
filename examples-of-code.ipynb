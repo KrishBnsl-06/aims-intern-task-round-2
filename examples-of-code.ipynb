{
 "cells": [
  {
   "cell_type": "code",
   "execution_count": 1,
   "metadata": {
    "_cell_guid": "b1076dfc-b9ad-4769-8c92-a6c4dae69d19",
    "_uuid": "8f2839f25d086af736a60e9eeb907d3b93b6e0e5",
    "execution": {
     "iopub.execute_input": "2025-05-29T16:30:42.623110Z",
     "iopub.status.busy": "2025-05-29T16:30:42.622958Z",
     "iopub.status.idle": "2025-05-29T16:30:45.403559Z",
     "shell.execute_reply": "2025-05-29T16:30:45.402904Z",
     "shell.execute_reply.started": "2025-05-29T16:30:42.623090Z"
    },
    "trusted": true
   },
   "outputs": [
    {
     "name": "stdout",
     "output_type": "stream",
     "text": [
      "/kaggle/input/final_demonstration/transformers/default/1/README.md\n",
      "/kaggle/input/final_demonstration/transformers/default/1/aims-intern-round2.py\n",
      "/kaggle/input/final_demonstration/transformers/default/1/requirements.txt\n",
      "/kaggle/input/final_demonstration/transformers/default/1/recipes_2.csv\n",
      "/kaggle/input/final_demonstration/transformers/default/1/images (2)/images/train_images/Broil_a_Perfect_Steak.jpg\n",
      "/kaggle/input/final_demonstration/transformers/default/1/images (2)/images/train_images/30-Minute_Chicken_and_Dumplings.jpg\n",
      "/kaggle/input/final_demonstration/transformers/default/1/images (2)/images/train_images/Asian_Noodle_Bowl.jpg\n",
      "/kaggle/input/final_demonstration/transformers/default/1/images (2)/images/train_images/Award_Winning_Chili.jpg\n",
      "/kaggle/input/final_demonstration/transformers/default/1/images (2)/images/train_images/Beer_Bread.jpg\n",
      "/kaggle/input/final_demonstration/transformers/default/1/images (2)/images/train_images/Amish_Chicken.jpg\n",
      "/kaggle/input/final_demonstration/transformers/default/1/images (2)/images/train_images/Broccoli_Cheese_Soup.jpg\n",
      "/kaggle/input/final_demonstration/transformers/default/1/images (2)/images/train_images/Baked_Salmon.jpg\n",
      "/kaggle/input/final_demonstration/transformers/default/1/images (2)/images/train_images/Beef_Nacho_Crescent_Bake.jpg\n",
      "/kaggle/input/final_demonstration/transformers/default/1/images (2)/images/train_images/Bourbon_Chicken.jpg\n",
      "/kaggle/input/final_demonstration/transformers/default/1/images (2)/images/train_images/Bevs_Spaghetti_Sauce.jpg\n",
      "/kaggle/input/final_demonstration/transformers/default/1/images (2)/images/train_images/Cheese_Potato_and_Sausage_Casserole.jpg\n",
      "/kaggle/input/final_demonstration/transformers/default/1/images (2)/images/train_images/Best_Ever_Bruschetta.jpg\n",
      "/kaggle/input/final_demonstration/transformers/default/1/images (2)/images/train_images/Balsamic_Chicken_Thighs.jpg\n",
      "/kaggle/input/final_demonstration/transformers/default/1/images (2)/images/train_images/Angel_Chicken_Pasta.jpg\n",
      "/kaggle/input/final_demonstration/transformers/default/1/images (2)/images/test_images/Pizza_Meatloaf_Cups.jpg\n",
      "/kaggle/input/final_demonstration/transformers/default/1/images (2)/images/test_images/Perfect_Southern_Fried_Chicken.jpg\n",
      "/kaggle/input/final_demonstration/transformers/default/1/images (2)/images/test_images/Crusty_French_Bread.jpg\n",
      "/kaggle/input/final_demonstration/transformers/default/1/images (2)/images/test_images/Perfect_Basic_White_Rice.jpg\n",
      "/kaggle/input/final_demonstration/transformers/default/1/images (2)/images/test_images/Simple_Oven-Roasted_Corn_on_the_Cob.jpg\n",
      "/kaggle/input/final_demonstration/transformers/default/1/images (2)/images/test_images/Chicken_Fried_Rice.jpg\n",
      "/kaggle/input/final_demonstration/transformers/default/1/images (2)/images/test_images/Properly_Prepared_Spaghetti_Squash.jpg\n",
      "/kaggle/input/final_demonstration/transformers/default/1/images (2)/images/test_images/Chicken_Parmesan.jpg\n",
      "/kaggle/input/final_demonstration/transformers/default/1/images (2)/images/test_images/Creamy_Cajun_Chicken_Pasta.jpg\n",
      "/kaggle/input/final_demonstration/transformers/default/1/images (2)/images/test_images/Easy_Oven-Baked_Cod.jpg\n",
      "/kaggle/input/final_demonstration/transformers/default/1/images (2)/images/test_images/Meatloaf.jpg\n",
      "/kaggle/input/final_demonstration/transformers/default/1/images (2)/images/test_images/Chicken-Macaroni_Casserole.jpg\n",
      "/kaggle/input/final_demonstration/transformers/default/1/images (2)/images/test_images/General_Tsos_Chicken.jpg\n",
      "/kaggle/input/final_demonstration/transformers/default/1/images (2)/images/test_images/Chicken_Tortilla_Soup.jpg\n",
      "/kaggle/input/final_demonstration/transformers/default/1/images (2)/images/test_images/Ground_Beef_Gyros.jpg\n",
      "/kaggle/input/final_demonstration/transformers/default/1/images (2)/images/test_images/Scalloped_Potatoes.jpg\n",
      "/kaggle/input/final_demonstration/transformers/default/1/images (2)/images/test_images/Chicken_Tikka_Masala.jpg\n",
      "/kaggle/input/final_demonstration/transformers/default/1/images (2)/images/test_images/Copycat_Red_Lobster_Cheddar_Bay_Biscuits.jpg\n",
      "/kaggle/input/final_demonstration/transformers/default/1/images (2)/images/test_images/Flat_Iron_Steak_with_Parmesan_Sauce.jpg\n",
      "/kaggle/input/final_demonstration/transformers/default/1/images (2)/images/test_images/Jo_Mamas_World_Famous_Spaghetti.jpg\n",
      "/kaggle/input/final_demonstration/transformers/default/1/images (2)/images/test_images/Perfect_Rump_Roast.jpg\n",
      "/kaggle/input/final_demonstration/transformers/default/1/images (2)/images/test_images/Sesame_Crusted_Tuna_Steaks.jpg\n",
      "/kaggle/input/final_demonstration/transformers/default/1/images (2)/images/test_images/Simple_Baked_Chicken_Drumsticks.jpg\n",
      "/kaggle/input/final_demonstration/transformers/default/1/images (2)/images/test_images/King_Ranch_Chicken.jpg\n",
      "/kaggle/input/final_demonstration/transformers/default/1/images (2)/images/test_images/Easy_Stovetop_Macaroni_n_Cheese.jpg\n",
      "/kaggle/input/final_demonstration/transformers/default/1/images (2)/images/test_images/Famous_Challah.jpg\n",
      "/kaggle/input/final_demonstration/transformers/default/1/images (2)/images/test_images/Lasagna.jpg\n",
      "/kaggle/input/final_demonstration/transformers/default/1/images (2)/images/test_images/Garlic_and_Oregano_Skillet_Chicken.jpg\n",
      "/kaggle/input/final_demonstration/transformers/default/1/images (2)/images/test_images/Chicken_Pot_Pie.jpg\n",
      "/kaggle/input/final_demonstration/transformers/default/1/images (2)/images/test_images/Skillet_Tarragon_Chicken.jpg\n",
      "/kaggle/input/final_demonstration/transformers/default/1/images (2)/images/test_images/Pulled_Pork_BBQ.jpg\n",
      "/kaggle/input/final_demonstration/transformers/default/1/images (2)/images/test_images/Italian_Sausage_Dog.jpg\n",
      "/kaggle/input/final_demonstration/transformers/default/1/images (2)/images/test_images/Classic_Potato_Salad.jpg\n",
      "/kaggle/input/final_demonstration/transformers/default/1/images (2)/images/test_images/Lemon_Baked_Cod.jpg\n",
      "/kaggle/input/final_demonstration/transformers/default/1/images (2)/images/test_images/Creamy_Burrito_Casserole.jpg\n",
      "/kaggle/input/final_demonstration/transformers/default/1/images (2)/images/test_images/Chicken_Alfredo.jpg\n",
      "/kaggle/input/final_demonstration/transformers/default/1/images (2)/images/test_images/Slow-Cooker_White_Chicken_Chili.jpg\n",
      "/kaggle/input/final_demonstration/transformers/default/1/images (2)/images/test_images/Curry_Chicken.jpg\n",
      "/kaggle/input/final_demonstration/transformers/default/1/images (2)/images/test_images/Japanese_Mums_Chicken.jpg\n",
      "/kaggle/input/final_demonstration/transformers/default/1/images (2)/images/test_images/Lemon_Pepper_Chicken_Breasts.jpg\n",
      "/kaggle/input/final_demonstration/transformers/default/1/images (2)/images/test_images/Perfect_Slow-Cooker_Pot_Roast.jpg\n",
      "/kaggle/input/final_demonstration/transformers/default/1/images (2)/images/test_images/Oven-baked_Parmesan_Chicken_Strips.jpg\n",
      "/kaggle/input/final_demonstration/transformers/default/1/images (2)/images/test_images/Oven-Roasted_Greek_Potatoes.jpg\n",
      "/kaggle/input/final_demonstration/transformers/default/1/images (2)/images/test_images/Ground_Beef_Stuffed_Green_Bell_Peppers.jpg\n",
      "/kaggle/input/final_demonstration/transformers/default/1/images (2)/images/test_images/Sloppy_Joes.jpg\n",
      "/kaggle/input/final_demonstration/transformers/default/1/images (2)/images/test_images/Crock_Pot_Chicken_à_La_Antoinette.jpg\n",
      "/kaggle/input/final_demonstration/transformers/default/1/images (2)/images/test_images/Frank_and_Potato_Bake.jpg\n",
      "/kaggle/input/final_demonstration/transformers/default/1/images (2)/images/test_images/Loaded_Baked_Potato_Soup.jpg\n",
      "/kaggle/input/final_demonstration/transformers/default/1/images (2)/images/test_images/Stovetop_Tuna_Casserole.jpg\n",
      "/kaggle/input/final_demonstration/transformers/default/1/images (2)/images/test_images/Simple_Pasta_Toss.jpg\n",
      "/kaggle/input/final_demonstration/transformers/default/1/images (2)/images/test_images/Sweet_and_Sour_Chicken.jpg\n",
      "/kaggle/input/final_demonstration/transformers/default/1/images (2)/images/test_images/Sour_Cream_Chicken_Enchiladas.jpg\n",
      "/kaggle/input/final_demonstration/transformers/default/1/images (2)/images/test_images/Oven_Barbecue_Ribs.jpg\n",
      "/kaggle/input/final_demonstration/transformers/default/1/images (2)/images/test_images/Leftover_Mashed_Potato_Pancakes.jpg\n",
      "/kaggle/input/final_demonstration/transformers/default/1/images (2)/images/test_images/Corned_Beef_and_Cabbage.jpg\n",
      "/kaggle/input/final_demonstration/transformers/default/1/images (2)/images/test_images/Hamburger_Stroganoff.jpg\n",
      "/kaggle/input/final_demonstration/transformers/default/1/images (2)/images/test_images/Potato_and_Buffalo_Chicken_Casserole.jpg\n",
      "/kaggle/input/final_demonstration/transformers/default/1/images (2)/images/test_images/Fantastic_Taco_Casserole.jpg\n",
      "/kaggle/input/final_demonstration/transformers/default/1/images (2)/images/test_images/Mexican_Rice.jpg\n",
      "/kaggle/input/final_demonstration/transformers/default/1/images (2)/images/test_images/Southern_Buttermilk_Biscuits.jpg\n",
      "/kaggle/input/final_demonstration/transformers/default/1/images (2)/images/test_images/Melt-In-Your-Mouth_Chicken_Breasts.jpg\n"
     ]
    }
   ],
   "source": [
    "# This Python 3 environment comes with many helpful analytics libraries installed\n",
    "# It is defined by the kaggle/python Docker image: https://github.com/kaggle/docker-python\n",
    "# For example, here's several helpful packages to load\n",
    "\n",
    "import numpy as np # linear algebra\n",
    "import pandas as pd # data processing, CSV file I/O (e.g. pd.read_csv)\n",
    "\n",
    "# Input data files are available in the read-only \"../input/\" directory\n",
    "# For example, running this (by clicking run or pressing Shift+Enter) will list all files under the input directory\n",
    "\n",
    "import os\n",
    "for dirname, _, filenames in os.walk('/kaggle/input'):\n",
    "    for filename in filenames:\n",
    "        print(os.path.join(dirname, filename))\n",
    "\n",
    "# You can write up to 20GB to the current directory (/kaggle/working/) that gets preserved as output when you create a version using \"Save & Run All\" \n",
    "# You can also write temporary files to /kaggle/temp/, but they won't be saved outside of the current session"
   ]
  },
  {
   "cell_type": "code",
   "execution_count": null,
   "metadata": {
    "execution": {
     "iopub.execute_input": "2025-05-29T16:30:45.405327Z",
     "iopub.status.busy": "2025-05-29T16:30:45.405038Z",
     "iopub.status.idle": "2025-05-29T16:33:30.064435Z",
     "shell.execute_reply": "2025-05-29T16:33:30.063753Z",
     "shell.execute_reply.started": "2025-05-29T16:30:45.405310Z"
    },
    "trusted": true
   },
   "outputs": [
    {
     "name": "stderr",
     "output_type": "stream",
     "text": [
      "2025-05-29 16:31:07.928876: E external/local_xla/xla/stream_executor/cuda/cuda_fft.cc:477] Unable to register cuFFT factory: Attempting to register factory for plugin cuFFT when one has already been registered\n",
      "WARNING: All log messages before absl::InitializeLog() is called are written to STDERR\n",
      "E0000 00:00:1748536268.386576      35 cuda_dnn.cc:8310] Unable to register cuDNN factory: Attempting to register factory for plugin cuDNN when one has already been registered\n",
      "E0000 00:00:1748536268.507607      35 cuda_blas.cc:1418] Unable to register cuBLAS factory: Attempting to register factory for plugin cuBLAS when one has already been registered\n"
     ]
    },
    {
     "data": {
      "application/vnd.jupyter.widget-view+json": {
       "model_id": "d8b553c9905d480082de55507af216a1",
       "version_major": 2,
       "version_minor": 0
      },
      "text/plain": [
       "config.json:   0%|          | 0.00/855 [00:00<?, ?B/s]"
      ]
     },
     "metadata": {},
     "output_type": "display_data"
    },
    {
     "data": {
      "application/vnd.jupyter.widget-view+json": {
       "model_id": "7c945545379a49e2b8b3ee44adf41d7c",
       "version_major": 2,
       "version_minor": 0
      },
      "text/plain": [
       "model.safetensors.index.json:   0%|          | 0.00/90.6k [00:00<?, ?B/s]"
      ]
     },
     "metadata": {},
     "output_type": "display_data"
    },
    {
     "data": {
      "application/vnd.jupyter.widget-view+json": {
       "model_id": "92e6e2c7c12f4e41aeb6f999c4f9c552",
       "version_major": 2,
       "version_minor": 0
      },
      "text/plain": [
       "Fetching 2 files:   0%|          | 0/2 [00:00<?, ?it/s]"
      ]
     },
     "metadata": {},
     "output_type": "display_data"
    },
    {
     "data": {
      "application/vnd.jupyter.widget-view+json": {
       "model_id": "516e8cdb7b8048efbea8b7c7b6b5cda3",
       "version_major": 2,
       "version_minor": 0
      },
      "text/plain": [
       "model-00002-of-00002.safetensors:   0%|          | 0.00/3.64G [00:00<?, ?B/s]"
      ]
     },
     "metadata": {},
     "output_type": "display_data"
    },
    {
     "data": {
      "application/vnd.jupyter.widget-view+json": {
       "model_id": "c66592a2e38045819cc24724d96f63af",
       "version_major": 2,
       "version_minor": 0
      },
      "text/plain": [
       "model-00001-of-00002.safetensors:   0%|          | 0.00/4.96G [00:00<?, ?B/s]"
      ]
     },
     "metadata": {},
     "output_type": "display_data"
    },
    {
     "data": {
      "application/vnd.jupyter.widget-view+json": {
       "model_id": "2d222179c7e94cfe8147e84b020899ab",
       "version_major": 2,
       "version_minor": 0
      },
      "text/plain": [
       "Loading checkpoint shards:   0%|          | 0/2 [00:00<?, ?it/s]"
      ]
     },
     "metadata": {},
     "output_type": "display_data"
    },
    {
     "data": {
      "application/vnd.jupyter.widget-view+json": {
       "model_id": "b16febea0a904482b6808db14fe9a2f3",
       "version_major": 2,
       "version_minor": 0
      },
      "text/plain": [
       "generation_config.json:   0%|          | 0.00/215 [00:00<?, ?B/s]"
      ]
     },
     "metadata": {},
     "output_type": "display_data"
    },
    {
     "data": {
      "application/vnd.jupyter.widget-view+json": {
       "model_id": "b8eb0fdae72f476eacb6d424d413cff6",
       "version_major": 2,
       "version_minor": 0
      },
      "text/plain": [
       "processor_config.json:   0%|          | 0.00/70.0 [00:00<?, ?B/s]"
      ]
     },
     "metadata": {},
     "output_type": "display_data"
    },
    {
     "data": {
      "application/vnd.jupyter.widget-view+json": {
       "model_id": "4b1bfd823d8c48608cdcbf68bef0803d",
       "version_major": 2,
       "version_minor": 0
      },
      "text/plain": [
       "chat_template.json:   0%|          | 0.00/1.61k [00:00<?, ?B/s]"
      ]
     },
     "metadata": {},
     "output_type": "display_data"
    },
    {
     "data": {
      "application/vnd.jupyter.widget-view+json": {
       "model_id": "0b5aa095926b4c22984665ab6fc38179",
       "version_major": 2,
       "version_minor": 0
      },
      "text/plain": [
       "preprocessor_config.json:   0%|          | 0.00/570 [00:00<?, ?B/s]"
      ]
     },
     "metadata": {},
     "output_type": "display_data"
    },
    {
     "name": "stderr",
     "output_type": "stream",
     "text": [
      "Using a slow image processor as `use_fast` is unset and a slow processor was saved with this model. `use_fast=True` will be the default behavior in v4.52, even if the model was saved with a slow processor. This will result in minor differences in outputs. You'll still be able to use a slow processor with `use_fast=False`.\n"
     ]
    },
    {
     "data": {
      "application/vnd.jupyter.widget-view+json": {
       "model_id": "a50252487aa947c48bdbf36fa18577cc",
       "version_major": 2,
       "version_minor": 0
      },
      "text/plain": [
       "tokenizer_config.json:   0%|          | 0.00/1.16M [00:00<?, ?B/s]"
      ]
     },
     "metadata": {},
     "output_type": "display_data"
    },
    {
     "data": {
      "application/vnd.jupyter.widget-view+json": {
       "model_id": "e435ed37570942cbbd9609c6d8f2adb7",
       "version_major": 2,
       "version_minor": 0
      },
      "text/plain": [
       "tokenizer.model:   0%|          | 0.00/4.69M [00:00<?, ?B/s]"
      ]
     },
     "metadata": {},
     "output_type": "display_data"
    },
    {
     "data": {
      "application/vnd.jupyter.widget-view+json": {
       "model_id": "ddfba48b2f28456c96d7a189da65b0dc",
       "version_major": 2,
       "version_minor": 0
      },
      "text/plain": [
       "tokenizer.json:   0%|          | 0.00/33.4M [00:00<?, ?B/s]"
      ]
     },
     "metadata": {},
     "output_type": "display_data"
    },
    {
     "data": {
      "application/vnd.jupyter.widget-view+json": {
       "model_id": "e8d40bcefd3c47c291d4ae91b36f0df3",
       "version_major": 2,
       "version_minor": 0
      },
      "text/plain": [
       "added_tokens.json:   0%|          | 0.00/35.0 [00:00<?, ?B/s]"
      ]
     },
     "metadata": {},
     "output_type": "display_data"
    },
    {
     "data": {
      "application/vnd.jupyter.widget-view+json": {
       "model_id": "b4d631fd424741b2b4b618c0c2b8a31b",
       "version_major": 2,
       "version_minor": 0
      },
      "text/plain": [
       "special_tokens_map.json:   0%|          | 0.00/662 [00:00<?, ?B/s]"
      ]
     },
     "metadata": {},
     "output_type": "display_data"
    },
    {
     "name": "stdout",
     "output_type": "stream",
     "text": [
      "Enter Image Name with the extension Chicken-Macaroni_Casserole.jpg\n",
      "Enter Vague Title of the dish Feathered White Mess\n"
     ]
    },
    {
     "name": "stdout",
     "output_type": "stream",
     "text": [
      "\n",
      "\n",
      "1. Brown Meat & Season: Brown ground beef and season with taco seasoning. 2. Combine & Bake: Mix in beans, cheese, and a little water. 3. Top & Heat: Cover with more cheese and bake at 350°F for 20 minutes, or until bubbly. Serve with tortillas.\n"
     ]
    }
   ],
   "source": [
    "from huggingface_hub import login\n",
    "\n",
    "login(token=\"enter your hf access token here\")\n",
    "\n",
    "from transformers import AutoProcessor, Gemma3ForConditionalGeneration\n",
    "from PIL import Image\n",
    "import requests\n",
    "import torch\n",
    "\n",
    "model_id = \"google/gemma-3-4b-it\"\n",
    "\n",
    "model = Gemma3ForConditionalGeneration.from_pretrained(\n",
    "    model_id, device_map=\"auto\"\n",
    ").eval()\n",
    "\n",
    "processor = AutoProcessor.from_pretrained(model_id)\n",
    "\n",
    "recipes = {\n",
    "    \"quick creamy lumps\": {\n",
    "        \"file\": \"images/train_images/30-Minute_Chicken_and_Dumplings.jpg\",\n",
    "        \"instruction\": \"1. Dice chicken and set aside; wash hands; sauté vegetables, bay leaf, oil, and butter in a pot for 5 minutes, season with salt, pepper, and poultry seasoning, then add flour and cook for 2 minutes. 2. Add broth and bring to a boil; stir in chicken; mix biscuit mix with warm water and parsley, drop spoonfuls evenly spaced into the pot, cover tightly and steam on medium-low for 8–10 minutes. 3. Uncover, stir to thicken sauce, add peas, mix well, and serve hot in shallow bowls.\"\n",
    "    },\n",
    "    \"buttery farm meat\": {\n",
    "        \"file\": \"images/train_images/Amish_Chicken.jpg\",\n",
    "        \"instruction\": \"Dredge chicken pieces in flour and spices, then place them skin side up in a baking dish. 2. Mix cream and water, pour over the chicken. 3. Bake at 350°F for 1.5 hours or until skin is golden brown.\"\n",
    "    },\n",
    "    \"soft creamy swirls\": {\n",
    "        \"file\": \"images/train_images/Angel_Chicken_Pasta.jpg\",\n",
    "        \"instruction\": \"1. Preheat oven to 325°F; melt butter in saucepan, stir in Italian dressing, wine, soup, and cream cheese until smooth. 2. Arrange chicken in a foil-covered baking dish, pour sauce over chicken, cover with foil, and bake for 1 hour. 3. Cook angel hair pasta; serve chicken and sauce over pasta.\"\n",
    "    },\n",
    "    \"soy noodle thing\": {\n",
    "        \"file\": \"images/train_images/Asian_Noodle_Bowl.jpg\",\n",
    "        \"instruction\": \"1. Boil water and cook noodles; toast almonds and sesame seeds separately until golden (about 3 minutes). 2. In a bowl, mix soy sauce, lime juice, peanut oil, and chili sauce to make dressing. 3. Drain noodles, toss with dressing, green onions, almonds, sesame seeds, and serve warm.\"\n",
    "    },\n",
    "    \"spicy bean mess\": {\n",
    "        \"file\": \"images/train_images/Award_Winning_Chili.jpg\",\n",
    "        \"instruction\": \"1. Heat oil in Dutch oven, brown ground meat, add onions, peppers, and garlic, sauté until soft. 2. Stir in tomato paste, diced tomatoes, sugar, bouillon, beer, beans, and spices. 3. Cover and simmer for 2 hours, stirring occasionally; serve hot.\"\n",
    "    },\n",
    "    \"pink baked slab\": {\n",
    "        \"file\": \"images/train_images/Baked_Salmon.jpg\",\n",
    "        \"instruction\": \"1. Mix garlic, oil, basil, salt, pepper, lemon juice, and parsley to prepare marinade. 2. Marinate salmon fillets skin-side down in fridge for 1 hour; preheat oven to 375°F. 3. Place salmon in baking dish, spoon marinade over, bake 35–45 minutes until flakes easily.\"\n",
    "    },\n",
    "    \"dark sweet thighs\": {\n",
    "        \"file\": \"images/train_images/Balsamic_Chicken_Thighs.jpg\",\n",
    "        \"instruction\": \"Prep & Brown: Preheat sprayed pan. Season chicken thighs and brown well on all sides. Cook & Add Aromatics: Cover, reduce heat, cook ~25 mins until done. Add and soften shallots for 2-3 minutes. Sauce & Serve: Stir in balsamic vinegar, coat chicken, and serve with sauce spooned over.\"\n",
    "    },\n",
    "    \"beefy crunchy pie\": {\n",
    "        \"file\": \"images/train_images/Beef_Nacho_Crescent_Bake.jpg\",\n",
    "        \"instruction\": \"1.Prepare the filling and dough: Cook ground beef with seasonings; whisk cheese soup and milk; cut crescent dough into squares. 2. Assemble and bake: Spoon beef onto dough, seal, place in a greased dish, and drizzle with soup mixture. Bake at 375°F for 20-25 minutes. 3. Finish and serve: Sprinkle with cheese and return to oven for 5 minutes until melted.\"\n",
    "    },\n",
    "    \"fluffy malt loaf\": {\n",
    "        \"file\": \"images/train_images/Beer_Bread.jpg\",\n",
    "        \"instruction\": \"1. Mix & Bake: Preheat oven to 375°F and cool for 15 minutes. Mix sifted dry ingredients with beer, pour into greased pan, top with melted butter, and bake for 1 hour.2. Sift Flour Crucial: For best results (not a \"\"brick\"\"), sift flour or spoon it lightly into the measuring cup.... 3. Tips & Variations: For softer crust, mix butter into batter. If using non-alcoholic liquid, add yeast.\"\n",
    "    },\n",
    "    \"tomato bread bites\": {\n",
    "        \"file\": \"images/train_images/Best_Ever_Bruschetta.jpg\",\n",
    "        \"instruction\": \"1. Mix Ingredients: Combine tomatoes, garlic, basil, vinegar, olive oil, cheese, salt, and pepper in a bowl.2. Marinate: Let the mixture sit for at least 15 minutes to blend flavors.3. Serve: Slice bread and spoon the tomato mixture on top.\"\n",
    "    },\n",
    "    \"garlicky red splash\": {\n",
    "        \"file\": \"images/train_images/Bevs_Spaghetti_Sauce.jpg\",\n",
    "        \"instruction\": \"Brown beef, onion, garlic with olive oil and all seasonings (bay leaves, oregano, basil, Italian seasoning, salt, pepper). Stir in tomato paste, sauce, and diced tomatoes; simmer covered for 1.5 hours. Top cooked spaghetti with sauce, sautéed mushrooms, and Parmesan.\"\n",
    "    },\n",
    "    \"sweet sticky meat\": {\n",
    "        \"file\": \"images/train_images/Bourbon_Chicken.jpg\",\n",
    "        \"instruction\": \"1.Prepare the base: Sauté onion in butter, then make a roux with butter and flour, slowly adding chicken stock and simmering for 20 minutes. 2. Combine and simmer: Add broccoli, carrots, and sautéed onions, then milk and half-and-half, cooking on low heat for 20-25 minutes without boiling, and season. 3. Melt in cheese: Slowly stir in grated cheese until melted, then remove from heat and serve..\"\n",
    "    },\n",
    "    \"green cheesy bowl\": {\n",
    "        \"file\": \"images/train_images/Broccoli_Cheese_Soup.jpg\",\n",
    "        \"instruction\": \"1. Roux & Base: Sauté onions. Make a golden roux with butter/flour, then whisk in stock and simmer. 2. Veggies & Cream: Add broccoli, carrots, onions, milk, and half & half; cook on low (do not boil).3. Cheese & Serve: Season, blend if desired, then stir in cheese until melted. Serve immediately.\"\n",
    "    },\n",
    "    \"juicy charred slab\": {\n",
    "        \"file\": \"images/train_images/Broil_a_Perfect_Steak.jpg\",\n",
    "        \"instruction\": \"Prep & Preheat: Bring steaks to room temp, pat dry. Preheat oven and cast iron skillet under broiler for 15-20 mins. Season steaks. Sear & Bake: Carefully place steaks in hot skillet, broil 3 mins per side. Switch oven to 500°F, cook to desired doneness (see chart), flipping halfway. Rest & Serve: Rest steaks for 5 minutes before serving, ideally on warm plates. (Crucial: Don't pierce meat during cooking).\"\n",
    "    },\n",
    "    \"cheesy tuber meat\": {\n",
    "        \"file\": \"images/train_images/Cheese_Potato_and_Sausage_Casserole.jpg\",\n",
    "        \"instruction\": \"1. Prep Meat & Potatoes: Brown chopped smoked sausage. Combine with cooked, diced potatoes in a casserole dish. 2. Make Cheese Sauce: Mix and heat remaining ingredients (except cheddar/paprika) until smooth; pour over sausage/potatoes.3. Top & Bake: Sprinkle with cheddar and paprika. Bake at 350°F for 35-45 minutes until golden.\"\n",
    "    }\n",
    "}\n",
    "\n",
    "image_dir = '/kaggle/input/final_demonstration/transformers/default/1/images (2)/'\n",
    "messages = []\n",
    "\n",
    "\n",
    "messages.append({\n",
    "    \"role\": \"system\",\n",
    "    \"content\": [{\n",
    "        \"type\": \"text\",\n",
    "        \"text\": \"\"\"You are an Expert Culinary Assistant. Your sole task is to convert a food image and a vague or imprecise dish title into an ultra-concise, 2-3 step recipe summary.\n",
    "\n",
    "**Your Response MUST Adhere Strictly to These Rules:**\n",
    "\n",
    "1.  **Structure & Length:**\n",
    "    * **Exactly 2 or 3 steps.** No more, no less.\n",
    "    * Each step must be a **single, complete sentence.**\n",
    "\n",
    "2.  **Content & Style:**\n",
    "    * Describe essential cooking actions using **present-tense, imperative verbs** (e.g., \"Mix ingredients...\", \"Sauté vegetables...\", \"Bake until golden...\").\n",
    "    * Focus entirely on the **core assembly and cooking method.** What does one *do* to make this?\n",
    "\n",
    "3.  **What to OMIT (Critically Important):**\n",
    "    * **NO introductory phrases, chit-chat, or concluding remarks.** Get straight to the steps.\n",
    "\n",
    "4.  **Goal:** The recipe summary must be **clear, unambiguous, actionable,** and capture the fundamental essence of how the dish is prepared. Assume the user has basic cooking knowledge and can infer common sense details.\n",
    "\"\"\"\n",
    "    }]\n",
    "})\n",
    "\n",
    "for vague_title, data in recipes.items():\n",
    "    img = Image.open(f\"{image_dir}/{data['file']}\")\n",
    "    messages.append({\n",
    "        \"role\": \"user\",\n",
    "        \"content\": [\n",
    "            {\"type\": \"image\", \"image\": img},\n",
    "            {\"type\": \"text\", \"text\": f'Vague Title: \"{vague_title}\"\\nInstruction:'}\n",
    "        ]\n",
    "    })\n",
    "    messages.append({\n",
    "        \"role\": \"assistant\",\n",
    "        \"content\": [\n",
    "            {\"type\": \"text\", \"text\": data['instruction']}\n",
    "        ]\n",
    "    })\n",
    "\n",
    "\n",
    "test_image_path = f\"{image_dir}images/test_images/\"+str(input(\"Enter Image Name with the extension\"))\n",
    "test_vague_title = str(input(\"Enter Vague Title of the dish\"))\n",
    "\n",
    "print()\n",
    "print()\n",
    "\n",
    "test_img = Image.open(test_image_path)\n",
    "messages.append({\n",
    "    \"role\": \"user\",\n",
    "    \"content\": [\n",
    "        {\"type\": \"image\", \"image\": test_img},\n",
    "        {\"type\": \"text\", \"text\": f'Vague Title: \"{test_vague_title}\"\\nInstruction:'}\n",
    "    ]\n",
    "})\n",
    "\n",
    "inputs = processor.apply_chat_template(\n",
    "    messages, add_generation_prompt=True, tokenize=True,\n",
    "    return_dict=True, return_tensors=\"pt\"\n",
    ").to(model.device, dtype=torch.bfloat16)\n",
    "\n",
    "input_len = inputs[\"input_ids\"].shape[-1]\n",
    ",\n",
    "with torch.inference_mode():\n",
    "    generation = model.generate(**inputs, max_new_tokens=1000, do_sample=True, top_p=0.8, top_k=50)\n",
    "    generation = generation[0][input_len:]\n",
    "\n",
    "decoded = processor.decode(generation, skip_special_tokens=True)\n",
    "print(decoded)"
   ]
  },
  {
   "cell_type": "markdown",
   "metadata": {},
   "source": [
    "## actual recipe\n",
    "\n",
    "\n",
    "    Brown ground meat/turkey & onion; drain.\n",
    "    Add taco seasoning and stir in refried beans.\n",
    "    Mix soup and sour cream in a separate bowl.\n",
    "    Spread 1/2 sour cream mixture in the bottom of a casserole dish.\n",
    "    Tear up 3 tortillas and spread over sour cream mixture.\n",
    "    Put 1/2 the meat bean mixture over that.\n",
    "    Add a layer of cheese.\n",
    "    You could put some hot sauce on this now.\n",
    "    Repeat the layers.\n",
    "    Sprinkle cheese over the top and bake, uncovered, at 350°F for 20-30 minutes.\n"
   ]
  },
  {
   "cell_type": "markdown",
   "metadata": {},
   "source": [
    "Matches Fairly Accurately"
   ]
  },
  {
   "cell_type": "code",
   "execution_count": 3,
   "metadata": {
    "execution": {
     "iopub.execute_input": "2025-05-29T16:33:41.811931Z",
     "iopub.status.busy": "2025-05-29T16:33:41.811631Z",
     "iopub.status.idle": "2025-05-29T16:34:56.840097Z",
     "shell.execute_reply": "2025-05-29T16:34:56.839321Z",
     "shell.execute_reply.started": "2025-05-29T16:33:41.811910Z"
    },
    "trusted": true
   },
   "outputs": [
    {
     "name": "stdout",
     "output_type": "stream",
     "text": [
      "Enter Image Name with the extension Chicken_Tortilla_Soup.jpg\n",
      "Enter Vague Title of the dish Nachos... but casserole\n"
     ]
    },
    {
     "name": "stdout",
     "output_type": "stream",
     "text": [
      "\n",
      "\n",
      "1. Brown & Season: Brown ground beef with taco seasoning and diced tomatoes. 2. Layer & Bake: Layer seasoned beef and rice in a casserole dish, top with cheese and tortilla chips. 3. Melt & Serve: Bake at 350°F until cheese is melted and bubbly, then top with olives and more cheese.\n"
     ]
    }
   ],
   "source": [
    "from PIL import Image\n",
    "\n",
    "# Assuming 'model' and 'processor' are already loaded and available from a previous cell.\n",
    "# model = Gemma3ForConditionalGeneration.from_pretrained(...)\n",
    "# processor = AutoProcessor.from_pretrained(...)\n",
    "\n",
    "recipes = {\n",
    "    \"quick creamy lumps\": {\n",
    "        \"file\": \"images/train_images/30-Minute_Chicken_and_Dumplings.jpg\",\n",
    "        \"instruction\": \"1. Dice chicken and set aside; wash hands; sauté vegetables, bay leaf, oil, and butter in a pot for 5 minutes, season with salt, pepper, and poultry seasoning, then add flour and cook for 2 minutes. 2. Add broth and bring to a boil; stir in chicken; mix biscuit mix with warm water and parsley, drop spoonfuls evenly spaced into the pot, cover tightly and steam on medium-low for 8–10 minutes. 3. Uncover, stir to thicken sauce, add peas, mix well, and serve hot in shallow bowls.\"\n",
    "    },\n",
    "    \"buttery farm meat\": {\n",
    "        \"file\": \"images/train_images/Amish_Chicken.jpg\",\n",
    "        \"instruction\": \"Dredge chicken pieces in flour and spices, then place them skin side up in a baking dish. 2. Mix cream and water, pour over the chicken. 3. Bake at 350°F for 1.5 hours or until skin is golden brown.\"\n",
    "    },\n",
    "    \"soft creamy swirls\": {\n",
    "        \"file\": \"images/train_images/Angel_Chicken_Pasta.jpg\",\n",
    "        \"instruction\": \"1. Preheat oven to 325°F; melt butter in saucepan, stir in Italian dressing, wine, soup, and cream cheese until smooth. 2. Arrange chicken in a foil-covered baking dish, pour sauce over chicken, cover with foil, and bake for 1 hour. 3. Cook angel hair pasta; serve chicken and sauce over pasta.\"\n",
    "    },\n",
    "    \"soy noodle thing\": {\n",
    "        \"file\": \"images/train_images/Asian_Noodle_Bowl.jpg\",\n",
    "        \"instruction\": \"1. Boil water and cook noodles; toast almonds and sesame seeds separately until golden (about 3 minutes). 2. In a bowl, mix soy sauce, lime juice, peanut oil, and chili sauce to make dressing. 3. Drain noodles, toss with dressing, green onions, almonds, sesame seeds, and serve warm.\"\n",
    "    },\n",
    "    \"spicy bean mess\": {\n",
    "        \"file\": \"images/train_images/Award_Winning_Chili.jpg\",\n",
    "        \"instruction\": \"1. Heat oil in Dutch oven, brown ground meat, add onions, peppers, and garlic, sauté until soft. 2. Stir in tomato paste, diced tomatoes, sugar, bouillon, beer, beans, and spices. 3. Cover and simmer for 2 hours, stirring occasionally; serve hot.\"\n",
    "    },\n",
    "    \"pink baked slab\": {\n",
    "        \"file\": \"images/train_images/Baked_Salmon.jpg\",\n",
    "        \"instruction\": \"1. Mix garlic, oil, basil, salt, pepper, lemon juice, and parsley to prepare marinade. 2. Marinate salmon fillets skin-side down in fridge for 1 hour; preheat oven to 375°F. 3. Place salmon in baking dish, spoon marinade over, bake 35–45 minutes until flakes easily.\"\n",
    "    },\n",
    "    \"dark sweet thighs\": {\n",
    "        \"file\": \"images/train_images/Balsamic_Chicken_Thighs.jpg\",\n",
    "        \"instruction\": \"Prep & Brown: Preheat sprayed pan. Season chicken thighs and brown well on all sides. Cook & Add Aromatics: Cover, reduce heat, cook ~25 mins until done. Add and soften shallots for 2-3 minutes. Sauce & Serve: Stir in balsamic vinegar, coat chicken, and serve with sauce spooned over.\"\n",
    "    },\n",
    "    \"beefy crunchy pie\": {\n",
    "        \"file\": \"images/train_images/Beef_Nacho_Crescent_Bake.jpg\",\n",
    "        \"instruction\": \"1.Prepare the filling and dough: Cook ground beef with seasonings; whisk cheese soup and milk; cut crescent dough into squares. 2. Assemble and bake: Spoon beef onto dough, seal, place in a greased dish, and drizzle with soup mixture. Bake at 375°F for 20-25 minutes. 3. Finish and serve: Sprinkle with cheese and return to oven for 5 minutes until melted.\"\n",
    "    },\n",
    "    \"fluffy malt loaf\": {\n",
    "        \"file\": \"images/train_images/Beer_Bread.jpg\",\n",
    "        \"instruction\": \"1. Mix & Bake: Preheat oven to 375°F and cool for 15 minutes. Mix sifted dry ingredients with beer, pour into greased pan, top with melted butter, and bake for 1 hour.2. Sift Flour Crucial: For best results (not a \"\"brick\"\"), sift flour or spoon it lightly into the measuring cup.... 3. Tips & Variations: For softer crust, mix butter into batter. If using non-alcoholic liquid, add yeast.\"\n",
    "    },\n",
    "    \"tomato bread bites\": {\n",
    "        \"file\": \"images/train_images/Best_Ever_Bruschetta.jpg\",\n",
    "        \"instruction\": \"1. Mix Ingredients: Combine tomatoes, garlic, basil, vinegar, olive oil, cheese, salt, and pepper in a bowl.2. Marinate: Let the mixture sit for at least 15 minutes to blend flavors.3. Serve: Slice bread and spoon the tomato mixture on top.\"\n",
    "    },\n",
    "    \"garlicky red splash\": {\n",
    "        \"file\": \"images/train_images/Bevs_Spaghetti_Sauce.jpg\",\n",
    "        \"instruction\": \"Brown beef, onion, garlic with olive oil and all seasonings (bay leaves, oregano, basil, Italian seasoning, salt, pepper). Stir in tomato paste, sauce, and diced tomatoes; simmer covered for 1.5 hours. Top cooked spaghetti with sauce, sautéed mushrooms, and Parmesan.\"\n",
    "    },\n",
    "    \"sweet sticky meat\": {\n",
    "        \"file\": \"images/train_images/Bourbon_Chicken.jpg\",\n",
    "        \"instruction\": \"1.Prepare the base: Sauté onion in butter, then make a roux with butter and flour, slowly adding chicken stock and simmering for 20 minutes. 2. Combine and simmer: Add broccoli, carrots, and sautéed onions, then milk and half-and-half, cooking on low heat for 20-25 minutes without boiling, and season. 3. Melt in cheese: Slowly stir in grated cheese until melted, then remove from heat and serve..\"\n",
    "    },\n",
    "    \"green cheesy bowl\": {\n",
    "        \"file\": \"images/train_images/Broccoli_Cheese_Soup.jpg\",\n",
    "        \"instruction\": \"1. Roux & Base: Sauté onions. Make a golden roux with butter/flour, then whisk in stock and simmer. 2. Veggies & Cream: Add broccoli, carrots, onions, milk, and half & half; cook on low (do not boil).3. Cheese & Serve: Season, blend if desired, then stir in cheese until melted. Serve immediately.\"\n",
    "    },\n",
    "    \"juicy charred slab\": {\n",
    "        \"file\": \"images/train_images/Broil_a_Perfect_Steak.jpg\",\n",
    "        \"instruction\": \"Prep & Preheat: Bring steaks to room temp, pat dry. Preheat oven and cast iron skillet under broiler for 15-20 mins. Season steaks. Sear & Bake: Carefully place steaks in hot skillet, broil 3 mins per side. Switch oven to 500°F, cook to desired doneness (see chart), flipping halfway. Rest & Serve: Rest steaks for 5 minutes before serving, ideally on warm plates. (Crucial: Don't pierce meat during cooking).\"\n",
    "    },\n",
    "    \"cheesy tuber meat\": {\n",
    "        \"file\": \"images/train_images/Cheese_Potato_and_Sausage_Casserole.jpg\",\n",
    "        \"instruction\": \"1. Prep Meat & Potatoes: Brown chopped smoked sausage. Combine with cooked, diced potatoes in a casserole dish. 2. Make Cheese Sauce: Mix and heat remaining ingredients (except cheddar/paprika) until smooth; pour over sausage/potatoes.3. Top & Bake: Sprinkle with cheddar and paprika. Bake at 350°F for 35-45 minutes until golden.\"\n",
    "    }\n",
    "}\n",
    "\n",
    "image_dir = '/kaggle/input/final_demonstration/transformers/default/1/images (2)/'\n",
    "messages = []\n",
    "\n",
    "messages.append({\n",
    "    \"role\": \"system\",\n",
    "    \"content\": [{\n",
    "        \"type\": \"text\",\n",
    "        \"text\": \"\"\"You are an Expert Culinary Assistant. Your sole task is to convert a food image and a vague or imprecise dish title into an ultra-concise, 2-3 step recipe summary.\n",
    "\n",
    "**Your Response MUST Adhere Strictly to These Rules:**\n",
    "\n",
    "1.  **Structure & Length:**\n",
    "    * **Exactly 2 or 3 steps.** No more, no less.\n",
    "    * Each step must be a **single, complete sentence.**\n",
    "\n",
    "2.  **Content & Style:**\n",
    "    * Describe essential cooking actions using **present-tense, imperative verbs** (e.g., \"Mix ingredients...\", \"Sauté vegetables...\", \"Bake until golden...\").\n",
    "    * Focus entirely on the **core assembly and cooking method.** What does one *do* to make this?\n",
    "\n",
    "3.  **What to OMIT (Critically Important):**\n",
    "    * **NO introductory phrases, chit-chat, or concluding remarks.** Get straight to the steps.\n",
    "\n",
    "4.  **Goal:** The recipe summary must be **clear, unambiguous, actionable,** and capture the fundamental essence of how the dish is prepared. Assume the user has basic cooking knowledge and can infer common sense details.\n",
    "\"\"\"\n",
    "    }]\n",
    "})\n",
    "\n",
    "for vague_title, data in recipes.items():\n",
    "    img = Image.open(f\"{image_dir}/{data['file']}\")\n",
    "    messages.append({\n",
    "        \"role\": \"user\",\n",
    "        \"content\": [\n",
    "            {\"type\": \"image\", \"image\": img},\n",
    "            {\"type\": \"text\", \"text\": f'Vague Title: \"{vague_title}\"\\nInstruction:'}\n",
    "        ]\n",
    "    })\n",
    "    messages.append({\n",
    "        \"role\": \"assistant\",\n",
    "        \"content\": [\n",
    "            {\"type\": \"text\", \"text\": data['instruction']}\n",
    "        ]\n",
    "    })\n",
    "\n",
    "\n",
    "test_image_path = f\"{image_dir}images/test_images/\"+str(input(\"Enter Image Name with the extension\"))\n",
    "test_vague_title = str(input(\"Enter Vague Title of the dish\"))\n",
    "\n",
    "print()\n",
    "print()\n",
    "\n",
    "test_img = Image.open(test_image_path)\n",
    "messages.append({\n",
    "    \"role\": \"user\",\n",
    "    \"content\": [\n",
    "        {\"type\": \"image\", \"image\": test_img},\n",
    "        {\"type\": \"text\", \"text\": f'Vague Title: \"{test_vague_title}\"\\nInstruction:'}\n",
    "    ]\n",
    "})\n",
    "\n",
    "# Ensure torch is imported if not already in the new cell's scope\n",
    "import torch\n",
    "\n",
    "inputs = processor.apply_chat_template(\n",
    "    messages, add_generation_prompt=True, tokenize=True,\n",
    "    return_dict=True, return_tensors=\"pt\"\n",
    ").to(model.device, dtype=torch.bfloat16)\n",
    "\n",
    "input_len = inputs[\"input_ids\"].shape[-1]\n",
    "\n",
    "with torch.inference_mode():\n",
    "    generation = model.generate(**inputs, max_new_tokens=1000, do_sample=True, top_p=0.8, top_k=50)\n",
    "    generation = generation[0][input_len:]\n",
    "\n",
    "decoded = processor.decode(generation, skip_special_tokens=True)\n",
    "print(decoded)\n"
   ]
  },
  {
   "cell_type": "markdown",
   "metadata": {},
   "source": [
    "## Actual Recipe\n",
    "\n",
    "\n",
    "    Brown ground beef and drain.\n",
    "    Add taco seasoning and cook according to package directions, adding proper amount of water.\n",
    "    Put corn chips on bottom of 8x8\" dish.\n",
    "    Cook refried beans on stove until hot.\n",
    "    Add 1 cup cheese and 1 cup salsa. Stir until combined.\n",
    "    Pour beans over corn chips in dish.\n",
    "    Add beef to top of beans.\n",
    "    Sprinkle remaining cheese over top.\n",
    "    Sprinkle green onions and black olives over cheese.\n",
    "    Bake in a 375 degree oven until the cheese is sufficiently melted.\n",
    "    Take out of oven and sprinkle chopped tomatoes on top. Wait 1-2 minutes and then serve.\n"
   ]
  }
 ],
 "metadata": {
  "kaggle": {
   "accelerator": "nvidiaTeslaT4",
   "dataSources": [
    {
     "isSourceIdPinned": true,
     "modelId": 361522,
     "modelInstanceId": 340391,
     "sourceId": 417246,
     "sourceType": "modelInstanceVersion"
    }
   ],
   "dockerImageVersionId": 31041,
   "isGpuEnabled": true,
   "isInternetEnabled": true,
   "language": "python",
   "sourceType": "notebook"
  },
  "kernelspec": {
   "display_name": "Python 3",
   "language": "python",
   "name": "python3"
  },
  "language_info": {
   "codemirror_mode": {
    "name": "ipython",
    "version": 3
   },
   "file_extension": ".py",
   "mimetype": "text/x-python",
   "name": "python",
   "nbconvert_exporter": "python",
   "pygments_lexer": "ipython3",
   "version": "3.11.11"
  }
 },
 "nbformat": 4,
 "nbformat_minor": 4
}
